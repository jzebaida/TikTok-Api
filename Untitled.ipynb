{
 "cells": [
  {
   "cell_type": "code",
   "execution_count": 1,
   "metadata": {},
   "outputs": [],
   "source": [
    "import nest_asyncio\n",
    "nest_asyncio.apply()"
   ]
  },
  {
   "cell_type": "code",
   "execution_count": 2,
   "metadata": {},
   "outputs": [
    {
     "name": "stderr",
     "output_type": "stream",
     "text": [
      "Future exception was never retrieved\n",
      "future: <Future finished exception=NetworkError('Protocol error Target.sendMessageToTarget: Target closed.')>\n",
      "pyppeteer.errors.NetworkError: Protocol error Target.sendMessageToTarget: Target closed.\n"
     ]
    },
    {
     "name": "stdout",
     "output_type": "stream",
     "text": [
      "still nailing it. Your turn to #ShowMeYourWalk\n",
      "Push the share button 3 times REALLY FAST 🤯 #learnontiktok #favoritememories #fyp\n",
      "Cono\n",
      "Stop disrespecting his No No Square! #tiktokpartner #nonosquare #vr\n",
      "\n",
      "Who is she!? 😳 #funny #fyp #memezar\n",
      "A little princess!\n",
      "What is that? #tiktok #capitoljames #fyp\n",
      "Watch until the end🤣\n",
      "Wait for it 😂#fyp\n",
      "10\n"
     ]
    }
   ],
   "source": [
    "from TikTokApi import TikTokApi\n",
    "# Starts TikTokApi\n",
    "api = TikTokApi()\n",
    "\n",
    "# The Number of trending TikToks you want to be displayed\n",
    "results = 10\n",
    "\n",
    "# Returns a list of dictionaries of the trending object\n",
    "trending = api.trending(results)\n",
    "\n",
    "# Loops over every tiktok\n",
    "for tiktok in trending:\n",
    "    # Prints the text of the tiktok\n",
    "    print(tiktok['desc'])\n",
    "\n",
    "print(len(trending))"
   ]
  },
  {
   "cell_type": "code",
   "execution_count": null,
   "metadata": {},
   "outputs": [],
   "source": []
  },
  {
   "cell_type": "code",
   "execution_count": null,
   "metadata": {},
   "outputs": [],
   "source": []
  }
 ],
 "metadata": {
  "kernelspec": {
   "display_name": "Python 3",
   "language": "python",
   "name": "python3"
  },
  "language_info": {
   "codemirror_mode": {
    "name": "ipython",
    "version": 3
   },
   "file_extension": ".py",
   "mimetype": "text/x-python",
   "name": "python",
   "nbconvert_exporter": "python",
   "pygments_lexer": "ipython3",
   "version": "3.7.6"
  }
 },
 "nbformat": 4,
 "nbformat_minor": 4
}
